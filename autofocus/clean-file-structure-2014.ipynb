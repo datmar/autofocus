{
 "cells": [
  {
   "cell_type": "code",
   "execution_count": 1,
   "metadata": {
    "scrolled": true
   },
   "outputs": [],
   "source": [
    "import pandas as pd\n",
    "import numpy as np\n",
    "import glob\n",
    "import re\n",
    "import matplotlib.pyplot as plt\n",
    "# from creevey import CustomReportingPipeline\n",
    "# from creevey.load_funcs.image import load_image_from_disk\n",
    "# from creevey.ops.image import resize\n",
    "# from creevey.path_funcs import replace_dir\n",
    "# from creevey.util.image import find_image_files\n",
    "# from creevey.write_funcs.image import write_image\n",
    "# from fastai.vision import verify_images"
   ]
  },
  {
   "cell_type": "markdown",
   "metadata": {},
   "source": [
    "## Rename images to reflect df_17 filenames by examining directory structure"
   ]
  },
  {
   "cell_type": "code",
   "execution_count": 6,
   "metadata": {},
   "outputs": [],
   "source": [
    "img_paths = find_image_files('../data/lpz_2012-2014/lpz_2012-2014/processed/images/')"
   ]
  },
  {
   "cell_type": "code",
   "execution_count": 26,
   "metadata": {},
   "outputs": [
    {
     "data": {
      "text/plain": [
       "'R03-CPG1-FA12 (518).JPG'"
      ]
     },
     "execution_count": 26,
     "metadata": {},
     "output_type": "execute_result"
    }
   ],
   "source": [
    "img_14 = img_paths[0]\n",
    "img_14.name"
   ]
  },
  {
   "cell_type": "code",
   "execution_count": 41,
   "metadata": {},
   "outputs": [
    {
     "data": {
      "text/plain": [
       "('R03-CPG1-FA12', '518')"
      ]
     },
     "execution_count": 41,
     "metadata": {},
     "output_type": "execute_result"
    }
   ],
   "source": [
    "x = re.match(\"^(\\S+)(?: \\()(\\d+)(?:\\))(?:\\S*).JPG\", img_14.name)\n",
    "x.groups()"
   ]
  },
  {
   "cell_type": "code",
   "execution_count": 42,
   "metadata": {},
   "outputs": [],
   "source": [
    "new_names = []\n",
    "excluded_imgs = []\n",
    "for i, img in enumerate(img_paths):\n",
    "    name_chunks = re.match(\"^(\\S+)(?:\\s+\\()(\\d+)(?:\\))(?:\\S*).JPG\", img.name)\n",
    "    if name_chunks is not None:\n",
    "        new_name = 'CHIL - ' + '_'.join(name_chunks.groups()) + \".JPG\"\n",
    "        new_names.append(new_name)\n",
    "    else:\n",
    "        excluded_imgs.append(img)\n"
   ]
  },
  {
   "cell_type": "code",
   "execution_count": 45,
   "metadata": {},
   "outputs": [
    {
     "data": {
      "text/plain": [
       "'CHIL - D07-BEC1-FA12_132.JPG'"
      ]
     },
     "execution_count": 45,
     "metadata": {},
     "output_type": "execute_result"
    }
   ],
   "source": [
    "new_names[3]"
   ]
  },
  {
   "cell_type": "code",
   "execution_count": null,
   "metadata": {},
   "outputs": [],
   "source": []
  },
  {
   "cell_type": "code",
   "execution_count": null,
   "metadata": {},
   "outputs": [],
   "source": [
    "df_14 = pd.read_csv('../data/lpz_2012-2014/lpz_2012-2014/raw/labels_clean.csv')\n",
    "df_17 = pd.read_csv('../data/lpz_2016_2017/processed/labels.csv')\n"
   ]
  },
  {
   "cell_type": "code",
   "execution_count": null,
   "metadata": {},
   "outputs": [],
   "source": [
    "df_14.head(2)"
   ]
  },
  {
   "cell_type": "code",
   "execution_count": null,
   "metadata": {},
   "outputs": [],
   "source": [
    "df_14.drop(columns=['Time', \"# Individuals\", \"Empty\", \"Human\",\n",
    "                    \"Vehicle\", \"picturename\", \"duplicate\", \"original\", \"Merge\", \"Unnamed: 0\"]).head(1)"
   ]
  },
  {
   "cell_type": "code",
   "execution_count": null,
   "metadata": {},
   "outputs": [],
   "source": []
  }
 ],
 "metadata": {
  "kernelspec": {
   "display_name": "Python [conda env:fastai] *",
   "language": "python",
   "name": "conda-env-fastai-py"
  },
  "language_info": {
   "codemirror_mode": {
    "name": "ipython",
    "version": 3
   },
   "file_extension": ".py",
   "mimetype": "text/x-python",
   "name": "python",
   "nbconvert_exporter": "python",
   "pygments_lexer": "ipython3",
   "version": "3.7.6"
  }
 },
 "nbformat": 4,
 "nbformat_minor": 4
}
