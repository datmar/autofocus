{
 "cells": [
  {
   "cell_type": "code",
   "execution_count": 2,
   "metadata": {},
   "outputs": [],
   "source": [
    "import pandas as pd\n",
    "import numpy as np\n",
    "import glob\n",
    "import matplotlib.pyplot as plt\n",
    "import pathlib\n",
    "\n",
    "df_17 = pd.read_csv('../data/lpz_2016_2017/processed/labels.csv')\n",
    "file = pathlib.Path(\"../data/lpz_2012-2014/lpz_2012-2014/raw/labels_clean.csv\") # TODO: replace with absolute path\n",
    "if not file.exists ():\n",
    "    print('file doesnt exist')\n",
    "    df_14 = pd.read_csv('../data/lpz_2012-2014/lpz_2012-2014/raw/labels.csv')\n",
    "\n",
    "    # Lowercase feature names\n",
    "    df_14.Species = df_14.Species.apply(lambda x: x.lower())\n",
    "\n",
    "    # Replace bird species with 'bird'\n",
    "    labels_replacement_birds = ['house sparrow', 'eurasian collared-dove', 'crow', 'starling', \n",
    "                          'yellow-rumped warbler', 'chipping sparrow', 'great horned owl',\n",
    "                          'american woodcock', 'northern flicker', 'downy woodpecker',\n",
    "                          'white-throated sparrow', 'great blue heron', 'grackle',\n",
    "                          \"swainson's thrush\", 'gray catbird', 'red-tailed hawk',\n",
    "                          'cardinal', 'hermit thrush', 'american robin',\n",
    "                          'red winged blackbird', 'pigeon', 'sparrow', 'ring-billed gull',\n",
    "                          'mallard', 'mourning dove', 'red-winged blackbird',\n",
    "                          'eurasian collared dove', 'white-crowned sparrow', 'hairy woodpecker',\n",
    "                          'red winged black bird', 'blue jay', 'song sparrow', 'robin',\n",
    "                          'brown thrasher'\n",
    "                               ]\n",
    "    df_14_clean = df_14.replace(to_replace=labels_replacement_birds, value='bird')\n",
    "\n",
    "    # Replace 2014 labels to match 2017 df where possible\n",
    "    replace_map = {'dom dog': 'dog', 'mower': 'lawn mower', 'skunk': 'striped skunk',\n",
    "                   'coyote ': 'coyote', 'opossum': 'v. opossum', 'deer': 'w. t. deer'}\n",
    "    df_14_clean = df_14_clean.replace(replace_map)\n",
    "    df_14_clean = df_14_clean.replace(to_replace=['domestic cat', 'dom cat'], value='cat')\n",
    "\n",
    "    # Remove unused labels from df_14\n",
    "    labels_unused = ['bike', 'canada goose', 'not visible', 'duck', '1', 'other vehicle',\n",
    "                     'car', 'tractor', 'livestock', 'rabbit', 'truck', '`', '10']\n",
    "    df_14_clean = df_14_clean[~df_14_clean['Species'].isin(labels_unused)]\n",
    "\n",
    "    # Change label column name\n",
    "    df_14_clean.rename(columns={'Species': 'label'}, inplace=True)\n",
    "\n",
    "    df_14_clean.to_csv('../data/lpz_2012-2014/lpz_2012-2014/raw/labels_clean.csv')\n",
    "else:\n",
    "    df_14_clean = pd.read_csv('../data/lpz_2012-2014/lpz_2012-2014/raw/labels_clean.csv')"
   ]
  },
  {
   "cell_type": "code",
   "execution_count": 3,
   "metadata": {},
   "outputs": [],
   "source": [
    "import numpy as np\n",
    "concat_list = df_14_clean['concatenate'].tolist()"
   ]
  },
  {
   "cell_type": "code",
   "execution_count": 4,
   "metadata": {},
   "outputs": [
    {
     "name": "stdout",
     "output_type": "stream",
     "text": [
      "nooo\n",
      "nooo\n",
      "nooo\n"
     ]
    }
   ],
   "source": [
    "import re\n",
    "name = \"D10-VHC1-WI12 23\"\n",
    "\"CHIL - \" + '_'.join(re.match(\"(\\S+)(?: )(\\d+)\", name).groups()) + \".JPG\"\n",
    "new_names = []\n",
    "excluded_names = []\n",
    "for i, img in enumerate(concat_list):\n",
    "    name_chunks = re.match(\"(\\S+)(?: )(\\d+)\", img)\n",
    "    if name_chunks is not None:\n",
    "        new_name = 'CHIL - ' + '_'.join(name_chunks.groups()) + \".JPG\"\n",
    "        new_names.append(new_name)\n",
    "    else:\n",
    "        excluded_names.append(img)\n",
    "        print(\"nooo\")\n"
   ]
  },
  {
   "cell_type": "code",
   "execution_count": 5,
   "metadata": {},
   "outputs": [],
   "source": [
    "def get_filename(x):\n",
    "    name_chunks = re.match(\"(\\S+)(?: )(\\S?\\d+)\", x)\n",
    "    if name_chunks:\n",
    "        return 'CHIL - ' + '_'.join(name_chunks.groups()) +\".JPG\"\n",
    "    else:\n",
    "        return \"None\""
   ]
  },
  {
   "cell_type": "code",
   "execution_count": 6,
   "metadata": {},
   "outputs": [],
   "source": [
    "df_14_clean['filename'] = df_14_clean['concatenate'].apply(lambda x: get_filename(x))"
   ]
  },
  {
   "cell_type": "code",
   "execution_count": 18,
   "metadata": {},
   "outputs": [],
   "source": [
    "df_14_clean.to_csv(str(file))"
   ]
  },
  {
   "cell_type": "code",
   "execution_count": 20,
   "metadata": {},
   "outputs": [
    {
     "data": {
      "text/html": [
       "<div>\n",
       "<style scoped>\n",
       "    .dataframe tbody tr th:only-of-type {\n",
       "        vertical-align: middle;\n",
       "    }\n",
       "\n",
       "    .dataframe tbody tr th {\n",
       "        vertical-align: top;\n",
       "    }\n",
       "\n",
       "    .dataframe thead th {\n",
       "        text-align: right;\n",
       "    }\n",
       "</style>\n",
       "<table border=\"1\" class=\"dataframe\">\n",
       "  <thead>\n",
       "    <tr style=\"text-align: right;\">\n",
       "      <th></th>\n",
       "      <th>Unnamed: 0</th>\n",
       "      <th>Merge</th>\n",
       "      <th>Survey ID</th>\n",
       "      <th>Date</th>\n",
       "      <th>Time</th>\n",
       "      <th>label</th>\n",
       "      <th>Empty</th>\n",
       "      <th>Human</th>\n",
       "      <th>Vehicle</th>\n",
       "      <th># Individuals</th>\n",
       "      <th>picturename</th>\n",
       "      <th>concatenate</th>\n",
       "      <th>filename_build</th>\n",
       "      <th>duplicate</th>\n",
       "      <th>original</th>\n",
       "      <th>filename</th>\n",
       "    </tr>\n",
       "  </thead>\n",
       "  <tbody>\n",
       "    <tr>\n",
       "      <th>0</th>\n",
       "      <td>0</td>\n",
       "      <td>D10-VHC1-WI12_01/24/2012_6:04</td>\n",
       "      <td>D10-VHC1-WI12</td>\n",
       "      <td>1/24/2012</td>\n",
       "      <td>6:04</td>\n",
       "      <td>coyote</td>\n",
       "      <td>0</td>\n",
       "      <td>0</td>\n",
       "      <td>0</td>\n",
       "      <td>1</td>\n",
       "      <td>23</td>\n",
       "      <td>D10-VHC1-WI12 23</td>\n",
       "      <td>WI12/DPT/D10-VHC1-WI12/D10-VHC1-WI12 (23).JPG</td>\n",
       "      <td>0</td>\n",
       "      <td>1</td>\n",
       "      <td>CHIL - D10-VHC1-WI12_23.JPG</td>\n",
       "    </tr>\n",
       "    <tr>\n",
       "      <th>1</th>\n",
       "      <td>1</td>\n",
       "      <td>D10-VHC1-WI12_01/24/2012_6:05</td>\n",
       "      <td>D10-VHC1-WI12</td>\n",
       "      <td>1/24/2012</td>\n",
       "      <td>6:05</td>\n",
       "      <td>coyote</td>\n",
       "      <td>0</td>\n",
       "      <td>0</td>\n",
       "      <td>0</td>\n",
       "      <td>1</td>\n",
       "      <td>24</td>\n",
       "      <td>D10-VHC1-WI12 24</td>\n",
       "      <td>WI12/DPT/D10-VHC1-WI12/D10-VHC1-WI12 (24).JPG</td>\n",
       "      <td>0</td>\n",
       "      <td>2</td>\n",
       "      <td>CHIL - D10-VHC1-WI12_24.JPG</td>\n",
       "    </tr>\n",
       "  </tbody>\n",
       "</table>\n",
       "</div>"
      ],
      "text/plain": [
       "   Unnamed: 0                          Merge      Survey ID       Date  Time  \\\n",
       "0           0  D10-VHC1-WI12_01/24/2012_6:04  D10-VHC1-WI12  1/24/2012  6:04   \n",
       "1           1  D10-VHC1-WI12_01/24/2012_6:05  D10-VHC1-WI12  1/24/2012  6:05   \n",
       "\n",
       "    label  Empty  Human  Vehicle  # Individuals picturename       concatenate  \\\n",
       "0  coyote      0      0        0              1          23  D10-VHC1-WI12 23   \n",
       "1  coyote      0      0        0              1          24  D10-VHC1-WI12 24   \n",
       "\n",
       "                                  filename_build  duplicate  original  \\\n",
       "0  WI12/DPT/D10-VHC1-WI12/D10-VHC1-WI12 (23).JPG          0         1   \n",
       "1  WI12/DPT/D10-VHC1-WI12/D10-VHC1-WI12 (24).JPG          0         2   \n",
       "\n",
       "                      filename  \n",
       "0  CHIL - D10-VHC1-WI12_23.JPG  \n",
       "1  CHIL - D10-VHC1-WI12_24.JPG  "
      ]
     },
     "execution_count": 20,
     "metadata": {},
     "output_type": "execute_result"
    }
   ],
   "source": [
    "df_14_clean.head(2)"
   ]
  },
  {
   "cell_type": "code",
   "execution_count": 21,
   "metadata": {},
   "outputs": [
    {
     "ename": "NameError",
     "evalue": "name 'df_17' is not defined",
     "output_type": "error",
     "traceback": [
      "\u001b[0;31m---------------------------------------------------------------------------\u001b[0m",
      "\u001b[0;31mNameError\u001b[0m                                 Traceback (most recent call last)",
      "\u001b[0;32m<ipython-input-21-04591587b553>\u001b[0m in \u001b[0;36m<module>\u001b[0;34m\u001b[0m\n\u001b[0;32m----> 1\u001b[0;31m \u001b[0mdf_17\u001b[0m\u001b[0;34m.\u001b[0m\u001b[0mhead\u001b[0m\u001b[0;34m(\u001b[0m\u001b[0;36m2\u001b[0m\u001b[0;34m)\u001b[0m\u001b[0;34m\u001b[0m\u001b[0;34m\u001b[0m\u001b[0m\n\u001b[0m",
      "\u001b[0;31mNameError\u001b[0m: name 'df_17' is not defined"
     ]
    }
   ],
   "source": []
  },
  {
   "cell_type": "code",
   "execution_count": null,
   "metadata": {},
   "outputs": [],
   "source": []
  }
 ],
 "metadata": {
  "kernelspec": {
   "display_name": "Python [conda env:fastai] *",
   "language": "python",
   "name": "conda-env-fastai-py"
  },
  "language_info": {
   "codemirror_mode": {
    "name": "ipython",
    "version": 3
   },
   "file_extension": ".py",
   "mimetype": "text/x-python",
   "name": "python",
   "nbconvert_exporter": "python",
   "pygments_lexer": "ipython3",
   "version": "3.7.6"
  }
 },
 "nbformat": 4,
 "nbformat_minor": 2
}
